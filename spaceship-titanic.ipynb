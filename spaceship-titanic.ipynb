{
 "cells": [
  {
   "cell_type": "markdown",
   "id": "84c6cec0",
   "metadata": {
    "papermill": {
     "duration": 0.009305,
     "end_time": "2024-02-08T19:49:23.708684",
     "exception": false,
     "start_time": "2024-02-08T19:49:23.699379",
     "status": "completed"
    },
    "tags": []
   },
   "source": [
    "### Define Objectives:  \n",
    "*In this competition, the task is to predict whether a passenger was transported to an alternate dimension during the Spaceship Titanic's collision with the spacetime anomaly.*"
   ]
  },
  {
   "cell_type": "code",
   "execution_count": 1,
   "id": "1d725def",
   "metadata": {
    "_cell_guid": "b1076dfc-b9ad-4769-8c92-a6c4dae69d19",
    "_uuid": "8f2839f25d086af736a60e9eeb907d3b93b6e0e5",
    "execution": {
     "iopub.execute_input": "2024-02-08T19:49:23.730779Z",
     "iopub.status.busy": "2024-02-08T19:49:23.729936Z",
     "iopub.status.idle": "2024-02-08T19:49:26.600350Z",
     "shell.execute_reply": "2024-02-08T19:49:26.599138Z"
    },
    "papermill": {
     "duration": 2.885545,
     "end_time": "2024-02-08T19:49:26.603274",
     "exception": false,
     "start_time": "2024-02-08T19:49:23.717729",
     "status": "completed"
    },
    "tags": []
   },
   "outputs": [],
   "source": [
    "#### import libraries\n",
    "import numpy as np\n",
    "import pandas as pd\n",
    "import matplotlib.pyplot as plt\n",
    "import os\n",
    "\n",
    "from sklearn.model_selection import train_test_split\n",
    "from sklearn.model_selection import GridSearchCV\n",
    "from sklearn.linear_model import LogisticRegression\n",
    "from sklearn.neighbors import KNeighborsClassifier\n",
    "from sklearn.ensemble import RandomForestClassifier\n",
    "from sklearn.metrics import accuracy_score\n",
    "from sklearn.metrics import classification_report\n",
    "from sklearn.preprocessing import StandardScaler, MinMaxScaler\n"
   ]
  },
  {
   "cell_type": "markdown",
   "id": "11006c45",
   "metadata": {
    "papermill": {
     "duration": 0.008708,
     "end_time": "2024-02-08T19:49:26.621016",
     "exception": false,
     "start_time": "2024-02-08T19:49:26.612308",
     "status": "completed"
    },
    "tags": []
   },
   "source": [
    "### Data Collection:  \n",
    "*Load data into pandas DataFrame for further analysis.*"
   ]
  },
  {
   "cell_type": "code",
   "execution_count": 2,
   "id": "a86d87b5",
   "metadata": {
    "execution": {
     "iopub.execute_input": "2024-02-08T19:49:26.641537Z",
     "iopub.status.busy": "2024-02-08T19:49:26.640542Z",
     "iopub.status.idle": "2024-02-08T19:49:26.751876Z",
     "shell.execute_reply": "2024-02-08T19:49:26.750172Z"
    },
    "papermill": {
     "duration": 0.12486,
     "end_time": "2024-02-08T19:49:26.754832",
     "exception": false,
     "start_time": "2024-02-08T19:49:26.629972",
     "status": "completed"
    },
    "tags": []
   },
   "outputs": [],
   "source": [
    "#### load the file\n",
    "DIR_PATH = '/kaggle/input/spaceship-titanic'\n",
    "train = pd.read_csv(os.path.join(DIR_PATH, 'train.csv'))\n",
    "test = pd.read_csv(os.path.join(DIR_PATH, 'test.csv'))"
   ]
  },
  {
   "cell_type": "markdown",
   "id": "0ffec02b",
   "metadata": {
    "papermill": {
     "duration": 0.008948,
     "end_time": "2024-02-08T19:49:26.773161",
     "exception": false,
     "start_time": "2024-02-08T19:49:26.764213",
     "status": "completed"
    },
    "tags": []
   },
   "source": [
    "### Data Cleaning:  \n",
    "*Clean the unhelpful columns, NaN value, duplicates and inconsistencies.*"
   ]
  },
  {
   "cell_type": "code",
   "execution_count": 3,
   "id": "ec98cf35",
   "metadata": {
    "execution": {
     "iopub.execute_input": "2024-02-08T19:49:26.793267Z",
     "iopub.status.busy": "2024-02-08T19:49:26.792837Z",
     "iopub.status.idle": "2024-02-08T19:49:26.834446Z",
     "shell.execute_reply": "2024-02-08T19:49:26.833297Z"
    },
    "papermill": {
     "duration": 0.054974,
     "end_time": "2024-02-08T19:49:26.837116",
     "exception": false,
     "start_time": "2024-02-08T19:49:26.782142",
     "status": "completed"
    },
    "tags": []
   },
   "outputs": [
    {
     "name": "stdout",
     "output_type": "stream",
     "text": [
      "<class 'pandas.core.frame.DataFrame'>\n",
      "RangeIndex: 8693 entries, 0 to 8692\n",
      "Data columns (total 14 columns):\n",
      " #   Column        Non-Null Count  Dtype  \n",
      "---  ------        --------------  -----  \n",
      " 0   PassengerId   8693 non-null   object \n",
      " 1   HomePlanet    8492 non-null   object \n",
      " 2   CryoSleep     8476 non-null   object \n",
      " 3   Cabin         8494 non-null   object \n",
      " 4   Destination   8511 non-null   object \n",
      " 5   Age           8514 non-null   float64\n",
      " 6   VIP           8490 non-null   object \n",
      " 7   RoomService   8512 non-null   float64\n",
      " 8   FoodCourt     8510 non-null   float64\n",
      " 9   ShoppingMall  8485 non-null   float64\n",
      " 10  Spa           8510 non-null   float64\n",
      " 11  VRDeck        8505 non-null   float64\n",
      " 12  Name          8493 non-null   object \n",
      " 13  Transported   8693 non-null   bool   \n",
      "dtypes: bool(1), float64(6), object(7)\n",
      "memory usage: 891.5+ KB\n"
     ]
    }
   ],
   "source": [
    "train.info()"
   ]
  },
  {
   "cell_type": "markdown",
   "id": "badf05e9",
   "metadata": {
    "papermill": {
     "duration": 0.008797,
     "end_time": "2024-02-08T19:49:26.855144",
     "exception": false,
     "start_time": "2024-02-08T19:49:26.846347",
     "status": "completed"
    },
    "tags": []
   },
   "source": [
    "Note: All feature columns (exclude ID) have missing values."
   ]
  },
  {
   "cell_type": "code",
   "execution_count": 4,
   "id": "9bbea3fc",
   "metadata": {
    "execution": {
     "iopub.execute_input": "2024-02-08T19:49:26.875262Z",
     "iopub.status.busy": "2024-02-08T19:49:26.874836Z",
     "iopub.status.idle": "2024-02-08T19:49:26.903771Z",
     "shell.execute_reply": "2024-02-08T19:49:26.902689Z"
    },
    "papermill": {
     "duration": 0.042003,
     "end_time": "2024-02-08T19:49:26.906183",
     "exception": false,
     "start_time": "2024-02-08T19:49:26.864180",
     "status": "completed"
    },
    "tags": []
   },
   "outputs": [
    {
     "data": {
      "text/html": [
       "<div>\n",
       "<style scoped>\n",
       "    .dataframe tbody tr th:only-of-type {\n",
       "        vertical-align: middle;\n",
       "    }\n",
       "\n",
       "    .dataframe tbody tr th {\n",
       "        vertical-align: top;\n",
       "    }\n",
       "\n",
       "    .dataframe thead th {\n",
       "        text-align: right;\n",
       "    }\n",
       "</style>\n",
       "<table border=\"1\" class=\"dataframe\">\n",
       "  <thead>\n",
       "    <tr style=\"text-align: right;\">\n",
       "      <th></th>\n",
       "      <th>PassengerId</th>\n",
       "      <th>HomePlanet</th>\n",
       "      <th>CryoSleep</th>\n",
       "      <th>Cabin</th>\n",
       "      <th>Destination</th>\n",
       "      <th>Age</th>\n",
       "      <th>VIP</th>\n",
       "      <th>RoomService</th>\n",
       "      <th>FoodCourt</th>\n",
       "      <th>ShoppingMall</th>\n",
       "      <th>Spa</th>\n",
       "      <th>VRDeck</th>\n",
       "      <th>Name</th>\n",
       "      <th>Transported</th>\n",
       "    </tr>\n",
       "  </thead>\n",
       "  <tbody>\n",
       "    <tr>\n",
       "      <th>0</th>\n",
       "      <td>0001_01</td>\n",
       "      <td>Europa</td>\n",
       "      <td>False</td>\n",
       "      <td>B/0/P</td>\n",
       "      <td>TRAPPIST-1e</td>\n",
       "      <td>39.0</td>\n",
       "      <td>False</td>\n",
       "      <td>0.0</td>\n",
       "      <td>0.0</td>\n",
       "      <td>0.0</td>\n",
       "      <td>0.0</td>\n",
       "      <td>0.0</td>\n",
       "      <td>Maham Ofracculy</td>\n",
       "      <td>False</td>\n",
       "    </tr>\n",
       "    <tr>\n",
       "      <th>1</th>\n",
       "      <td>0002_01</td>\n",
       "      <td>Earth</td>\n",
       "      <td>False</td>\n",
       "      <td>F/0/S</td>\n",
       "      <td>TRAPPIST-1e</td>\n",
       "      <td>24.0</td>\n",
       "      <td>False</td>\n",
       "      <td>109.0</td>\n",
       "      <td>9.0</td>\n",
       "      <td>25.0</td>\n",
       "      <td>549.0</td>\n",
       "      <td>44.0</td>\n",
       "      <td>Juanna Vines</td>\n",
       "      <td>True</td>\n",
       "    </tr>\n",
       "    <tr>\n",
       "      <th>2</th>\n",
       "      <td>0003_01</td>\n",
       "      <td>Europa</td>\n",
       "      <td>False</td>\n",
       "      <td>A/0/S</td>\n",
       "      <td>TRAPPIST-1e</td>\n",
       "      <td>58.0</td>\n",
       "      <td>True</td>\n",
       "      <td>43.0</td>\n",
       "      <td>3576.0</td>\n",
       "      <td>0.0</td>\n",
       "      <td>6715.0</td>\n",
       "      <td>49.0</td>\n",
       "      <td>Altark Susent</td>\n",
       "      <td>False</td>\n",
       "    </tr>\n",
       "    <tr>\n",
       "      <th>3</th>\n",
       "      <td>0003_02</td>\n",
       "      <td>Europa</td>\n",
       "      <td>False</td>\n",
       "      <td>A/0/S</td>\n",
       "      <td>TRAPPIST-1e</td>\n",
       "      <td>33.0</td>\n",
       "      <td>False</td>\n",
       "      <td>0.0</td>\n",
       "      <td>1283.0</td>\n",
       "      <td>371.0</td>\n",
       "      <td>3329.0</td>\n",
       "      <td>193.0</td>\n",
       "      <td>Solam Susent</td>\n",
       "      <td>False</td>\n",
       "    </tr>\n",
       "    <tr>\n",
       "      <th>4</th>\n",
       "      <td>0004_01</td>\n",
       "      <td>Earth</td>\n",
       "      <td>False</td>\n",
       "      <td>F/1/S</td>\n",
       "      <td>TRAPPIST-1e</td>\n",
       "      <td>16.0</td>\n",
       "      <td>False</td>\n",
       "      <td>303.0</td>\n",
       "      <td>70.0</td>\n",
       "      <td>151.0</td>\n",
       "      <td>565.0</td>\n",
       "      <td>2.0</td>\n",
       "      <td>Willy Santantines</td>\n",
       "      <td>True</td>\n",
       "    </tr>\n",
       "  </tbody>\n",
       "</table>\n",
       "</div>"
      ],
      "text/plain": [
       "  PassengerId HomePlanet CryoSleep  Cabin  Destination   Age    VIP  \\\n",
       "0     0001_01     Europa     False  B/0/P  TRAPPIST-1e  39.0  False   \n",
       "1     0002_01      Earth     False  F/0/S  TRAPPIST-1e  24.0  False   \n",
       "2     0003_01     Europa     False  A/0/S  TRAPPIST-1e  58.0   True   \n",
       "3     0003_02     Europa     False  A/0/S  TRAPPIST-1e  33.0  False   \n",
       "4     0004_01      Earth     False  F/1/S  TRAPPIST-1e  16.0  False   \n",
       "\n",
       "   RoomService  FoodCourt  ShoppingMall     Spa  VRDeck               Name  \\\n",
       "0          0.0        0.0           0.0     0.0     0.0    Maham Ofracculy   \n",
       "1        109.0        9.0          25.0   549.0    44.0       Juanna Vines   \n",
       "2         43.0     3576.0           0.0  6715.0    49.0      Altark Susent   \n",
       "3          0.0     1283.0         371.0  3329.0   193.0       Solam Susent   \n",
       "4        303.0       70.0         151.0   565.0     2.0  Willy Santantines   \n",
       "\n",
       "   Transported  \n",
       "0        False  \n",
       "1         True  \n",
       "2        False  \n",
       "3        False  \n",
       "4         True  "
      ]
     },
     "execution_count": 4,
     "metadata": {},
     "output_type": "execute_result"
    }
   ],
   "source": [
    "train.head()"
   ]
  },
  {
   "cell_type": "code",
   "execution_count": 5,
   "id": "f5f8b1dc",
   "metadata": {
    "execution": {
     "iopub.execute_input": "2024-02-08T19:49:26.927642Z",
     "iopub.status.busy": "2024-02-08T19:49:26.926486Z",
     "iopub.status.idle": "2024-02-08T19:49:26.936348Z",
     "shell.execute_reply": "2024-02-08T19:49:26.935156Z"
    },
    "papermill": {
     "duration": 0.023195,
     "end_time": "2024-02-08T19:49:26.938942",
     "exception": false,
     "start_time": "2024-02-08T19:49:26.915747",
     "status": "completed"
    },
    "tags": []
   },
   "outputs": [],
   "source": [
    "#### define the clean data function\n",
    "def clean_data(df):\n",
    "    # data cleaning\n",
    "    # list of categorical features to fill with mode\n",
    "    categorical_features = ['HomePlanet', 'CryoSleep', 'Destination', 'VIP']\n",
    "    # list of numerical features to fill with mean\n",
    "    numerical_features = ['Age', 'RoomService', 'FoodCourt', 'ShoppingMall', 'Spa', 'VRDeck']\n",
    "\n",
    "    # fill missing values for categorical features with mode\n",
    "    for feature in categorical_features:\n",
    "        df[feature] = df[feature].fillna(train[feature].mode()[0])\n",
    "    # fill missing values for numerical features with mean\n",
    "    for feature in numerical_features:\n",
    "        df[feature] = df[feature].fillna(train[feature].mean())\n",
    "        \n",
    "    # feature engineering\n",
    "    # perform one-hot encoding on 'HomePlanet' and 'Destination' columns\n",
    "    df = pd.get_dummies(df, columns=['HomePlanet', 'Destination'])\n",
    "    # extract and create a new 'group' column from 'PassengerId', assuming the format 'group_passenger'\n",
    "    df['group'] = df['PassengerId'].str.split('_').str[0].astype(int)\n",
    "    # drop 'Name' and 'Cabin' columns from the DataFrame\n",
    "    df = df.drop(['PassengerId', 'Name', 'Cabin'], axis=1)\n",
    "        \n",
    "    return df"
   ]
  },
  {
   "cell_type": "code",
   "execution_count": 6,
   "id": "50644cc9",
   "metadata": {
    "execution": {
     "iopub.execute_input": "2024-02-08T19:49:26.960760Z",
     "iopub.status.busy": "2024-02-08T19:49:26.960351Z",
     "iopub.status.idle": "2024-02-08T19:49:27.016572Z",
     "shell.execute_reply": "2024-02-08T19:49:27.015174Z"
    },
    "papermill": {
     "duration": 0.070969,
     "end_time": "2024-02-08T19:49:27.019554",
     "exception": false,
     "start_time": "2024-02-08T19:49:26.948585",
     "status": "completed"
    },
    "tags": []
   },
   "outputs": [
    {
     "name": "stderr",
     "output_type": "stream",
     "text": [
      "/tmp/ipykernel_18/499986565.py:11: FutureWarning: Downcasting object dtype arrays on .fillna, .ffill, .bfill is deprecated and will change in a future version. Call result.infer_objects(copy=False) instead. To opt-in to the future behavior, set `pd.set_option('future.no_silent_downcasting', True)`\n",
      "  df[feature] = df[feature].fillna(train[feature].mode()[0])\n"
     ]
    }
   ],
   "source": [
    "train = clean_data(train)"
   ]
  },
  {
   "cell_type": "code",
   "execution_count": 7,
   "id": "ec45a611",
   "metadata": {
    "execution": {
     "iopub.execute_input": "2024-02-08T19:49:27.041883Z",
     "iopub.status.busy": "2024-02-08T19:49:27.040615Z",
     "iopub.status.idle": "2024-02-08T19:49:27.056339Z",
     "shell.execute_reply": "2024-02-08T19:49:27.055016Z"
    },
    "papermill": {
     "duration": 0.029912,
     "end_time": "2024-02-08T19:49:27.059254",
     "exception": false,
     "start_time": "2024-02-08T19:49:27.029342",
     "status": "completed"
    },
    "tags": []
   },
   "outputs": [
    {
     "name": "stdout",
     "output_type": "stream",
     "text": [
      "<class 'pandas.core.frame.DataFrame'>\n",
      "RangeIndex: 8693 entries, 0 to 8692\n",
      "Data columns (total 16 columns):\n",
      " #   Column                     Non-Null Count  Dtype  \n",
      "---  ------                     --------------  -----  \n",
      " 0   CryoSleep                  8693 non-null   bool   \n",
      " 1   Age                        8693 non-null   float64\n",
      " 2   VIP                        8693 non-null   bool   \n",
      " 3   RoomService                8693 non-null   float64\n",
      " 4   FoodCourt                  8693 non-null   float64\n",
      " 5   ShoppingMall               8693 non-null   float64\n",
      " 6   Spa                        8693 non-null   float64\n",
      " 7   VRDeck                     8693 non-null   float64\n",
      " 8   Transported                8693 non-null   bool   \n",
      " 9   HomePlanet_Earth           8693 non-null   bool   \n",
      " 10  HomePlanet_Europa          8693 non-null   bool   \n",
      " 11  HomePlanet_Mars            8693 non-null   bool   \n",
      " 12  Destination_55 Cancri e    8693 non-null   bool   \n",
      " 13  Destination_PSO J318.5-22  8693 non-null   bool   \n",
      " 14  Destination_TRAPPIST-1e    8693 non-null   bool   \n",
      " 15  group                      8693 non-null   int64  \n",
      "dtypes: bool(9), float64(6), int64(1)\n",
      "memory usage: 551.9 KB\n"
     ]
    }
   ],
   "source": [
    "train.info()"
   ]
  },
  {
   "cell_type": "code",
   "execution_count": 8,
   "id": "ab54e82e",
   "metadata": {
    "execution": {
     "iopub.execute_input": "2024-02-08T19:49:27.081076Z",
     "iopub.status.busy": "2024-02-08T19:49:27.080336Z",
     "iopub.status.idle": "2024-02-08T19:49:27.104584Z",
     "shell.execute_reply": "2024-02-08T19:49:27.103155Z"
    },
    "papermill": {
     "duration": 0.038724,
     "end_time": "2024-02-08T19:49:27.107762",
     "exception": false,
     "start_time": "2024-02-08T19:49:27.069038",
     "status": "completed"
    },
    "tags": []
   },
   "outputs": [
    {
     "data": {
      "text/html": [
       "<div>\n",
       "<style scoped>\n",
       "    .dataframe tbody tr th:only-of-type {\n",
       "        vertical-align: middle;\n",
       "    }\n",
       "\n",
       "    .dataframe tbody tr th {\n",
       "        vertical-align: top;\n",
       "    }\n",
       "\n",
       "    .dataframe thead th {\n",
       "        text-align: right;\n",
       "    }\n",
       "</style>\n",
       "<table border=\"1\" class=\"dataframe\">\n",
       "  <thead>\n",
       "    <tr style=\"text-align: right;\">\n",
       "      <th></th>\n",
       "      <th>CryoSleep</th>\n",
       "      <th>Age</th>\n",
       "      <th>VIP</th>\n",
       "      <th>RoomService</th>\n",
       "      <th>FoodCourt</th>\n",
       "      <th>ShoppingMall</th>\n",
       "      <th>Spa</th>\n",
       "      <th>VRDeck</th>\n",
       "      <th>Transported</th>\n",
       "      <th>HomePlanet_Earth</th>\n",
       "      <th>HomePlanet_Europa</th>\n",
       "      <th>HomePlanet_Mars</th>\n",
       "      <th>Destination_55 Cancri e</th>\n",
       "      <th>Destination_PSO J318.5-22</th>\n",
       "      <th>Destination_TRAPPIST-1e</th>\n",
       "      <th>group</th>\n",
       "    </tr>\n",
       "  </thead>\n",
       "  <tbody>\n",
       "    <tr>\n",
       "      <th>0</th>\n",
       "      <td>False</td>\n",
       "      <td>39.0</td>\n",
       "      <td>False</td>\n",
       "      <td>0.0</td>\n",
       "      <td>0.0</td>\n",
       "      <td>0.0</td>\n",
       "      <td>0.0</td>\n",
       "      <td>0.0</td>\n",
       "      <td>False</td>\n",
       "      <td>False</td>\n",
       "      <td>True</td>\n",
       "      <td>False</td>\n",
       "      <td>False</td>\n",
       "      <td>False</td>\n",
       "      <td>True</td>\n",
       "      <td>1</td>\n",
       "    </tr>\n",
       "    <tr>\n",
       "      <th>1</th>\n",
       "      <td>False</td>\n",
       "      <td>24.0</td>\n",
       "      <td>False</td>\n",
       "      <td>109.0</td>\n",
       "      <td>9.0</td>\n",
       "      <td>25.0</td>\n",
       "      <td>549.0</td>\n",
       "      <td>44.0</td>\n",
       "      <td>True</td>\n",
       "      <td>True</td>\n",
       "      <td>False</td>\n",
       "      <td>False</td>\n",
       "      <td>False</td>\n",
       "      <td>False</td>\n",
       "      <td>True</td>\n",
       "      <td>2</td>\n",
       "    </tr>\n",
       "    <tr>\n",
       "      <th>2</th>\n",
       "      <td>False</td>\n",
       "      <td>58.0</td>\n",
       "      <td>True</td>\n",
       "      <td>43.0</td>\n",
       "      <td>3576.0</td>\n",
       "      <td>0.0</td>\n",
       "      <td>6715.0</td>\n",
       "      <td>49.0</td>\n",
       "      <td>False</td>\n",
       "      <td>False</td>\n",
       "      <td>True</td>\n",
       "      <td>False</td>\n",
       "      <td>False</td>\n",
       "      <td>False</td>\n",
       "      <td>True</td>\n",
       "      <td>3</td>\n",
       "    </tr>\n",
       "    <tr>\n",
       "      <th>3</th>\n",
       "      <td>False</td>\n",
       "      <td>33.0</td>\n",
       "      <td>False</td>\n",
       "      <td>0.0</td>\n",
       "      <td>1283.0</td>\n",
       "      <td>371.0</td>\n",
       "      <td>3329.0</td>\n",
       "      <td>193.0</td>\n",
       "      <td>False</td>\n",
       "      <td>False</td>\n",
       "      <td>True</td>\n",
       "      <td>False</td>\n",
       "      <td>False</td>\n",
       "      <td>False</td>\n",
       "      <td>True</td>\n",
       "      <td>3</td>\n",
       "    </tr>\n",
       "    <tr>\n",
       "      <th>4</th>\n",
       "      <td>False</td>\n",
       "      <td>16.0</td>\n",
       "      <td>False</td>\n",
       "      <td>303.0</td>\n",
       "      <td>70.0</td>\n",
       "      <td>151.0</td>\n",
       "      <td>565.0</td>\n",
       "      <td>2.0</td>\n",
       "      <td>True</td>\n",
       "      <td>True</td>\n",
       "      <td>False</td>\n",
       "      <td>False</td>\n",
       "      <td>False</td>\n",
       "      <td>False</td>\n",
       "      <td>True</td>\n",
       "      <td>4</td>\n",
       "    </tr>\n",
       "  </tbody>\n",
       "</table>\n",
       "</div>"
      ],
      "text/plain": [
       "   CryoSleep   Age    VIP  RoomService  FoodCourt  ShoppingMall     Spa  \\\n",
       "0      False  39.0  False          0.0        0.0           0.0     0.0   \n",
       "1      False  24.0  False        109.0        9.0          25.0   549.0   \n",
       "2      False  58.0   True         43.0     3576.0           0.0  6715.0   \n",
       "3      False  33.0  False          0.0     1283.0         371.0  3329.0   \n",
       "4      False  16.0  False        303.0       70.0         151.0   565.0   \n",
       "\n",
       "   VRDeck  Transported  HomePlanet_Earth  HomePlanet_Europa  HomePlanet_Mars  \\\n",
       "0     0.0        False             False               True            False   \n",
       "1    44.0         True              True              False            False   \n",
       "2    49.0        False             False               True            False   \n",
       "3   193.0        False             False               True            False   \n",
       "4     2.0         True              True              False            False   \n",
       "\n",
       "   Destination_55 Cancri e  Destination_PSO J318.5-22  \\\n",
       "0                    False                      False   \n",
       "1                    False                      False   \n",
       "2                    False                      False   \n",
       "3                    False                      False   \n",
       "4                    False                      False   \n",
       "\n",
       "   Destination_TRAPPIST-1e  group  \n",
       "0                     True      1  \n",
       "1                     True      2  \n",
       "2                     True      3  \n",
       "3                     True      3  \n",
       "4                     True      4  "
      ]
     },
     "execution_count": 8,
     "metadata": {},
     "output_type": "execute_result"
    }
   ],
   "source": [
    "train.head()"
   ]
  },
  {
   "cell_type": "markdown",
   "id": "18b5db6e",
   "metadata": {
    "papermill": {
     "duration": 0.009765,
     "end_time": "2024-02-08T19:49:27.127696",
     "exception": false,
     "start_time": "2024-02-08T19:49:27.117931",
     "status": "completed"
    },
    "tags": []
   },
   "source": [
    "### Data Preprocessing:  "
   ]
  },
  {
   "cell_type": "markdown",
   "id": "9bf39681",
   "metadata": {
    "papermill": {
     "duration": 0.009937,
     "end_time": "2024-02-08T19:49:27.147673",
     "exception": false,
     "start_time": "2024-02-08T19:49:27.137736",
     "status": "completed"
    },
    "tags": []
   },
   "source": [
    "#### Feature Engineering:  \n",
    "*Create new features from existing ones to improve model performance.*"
   ]
  },
  {
   "cell_type": "code",
   "execution_count": 9,
   "id": "7c35e545",
   "metadata": {
    "execution": {
     "iopub.execute_input": "2024-02-08T19:49:27.170284Z",
     "iopub.status.busy": "2024-02-08T19:49:27.169871Z",
     "iopub.status.idle": "2024-02-08T19:49:27.174795Z",
     "shell.execute_reply": "2024-02-08T19:49:27.173502Z"
    },
    "papermill": {
     "duration": 0.019309,
     "end_time": "2024-02-08T19:49:27.177151",
     "exception": false,
     "start_time": "2024-02-08T19:49:27.157842",
     "status": "completed"
    },
    "tags": []
   },
   "outputs": [],
   "source": [
    "#### feature engineering (add to clean_data() for convenience)\n",
    "# # perform one-hot encoding on 'HomePlanet' and 'Destination' columns\n",
    "# df = pd.get_dummies(df, columns=['HomePlanet', 'Destination'])\n",
    "# # extract and create a new 'group' column from 'PassengerId', assuming the format 'group_passenger'\n",
    "# df['group'] = df['PassengerId'].str.split('_').str[0].astype(int)\n",
    "# # drop 'Name' and 'Cabin' columns from the DataFrame\n",
    "# df = df.drop(['PassengerId', 'Name', 'Cabin'], axis=1)"
   ]
  },
  {
   "cell_type": "markdown",
   "id": "f3a0e89b",
   "metadata": {
    "papermill": {
     "duration": 0.009993,
     "end_time": "2024-02-08T19:49:27.197151",
     "exception": false,
     "start_time": "2024-02-08T19:49:27.187158",
     "status": "completed"
    },
    "tags": []
   },
   "source": [
    "#### Data Transformation:  \n",
    "*Normalize, scale, or encode data as necessary.*"
   ]
  },
  {
   "cell_type": "code",
   "execution_count": 10,
   "id": "e20f8e66",
   "metadata": {
    "execution": {
     "iopub.execute_input": "2024-02-08T19:49:27.219656Z",
     "iopub.status.busy": "2024-02-08T19:49:27.218612Z",
     "iopub.status.idle": "2024-02-08T19:49:27.246046Z",
     "shell.execute_reply": "2024-02-08T19:49:27.245052Z"
    },
    "papermill": {
     "duration": 0.0417,
     "end_time": "2024-02-08T19:49:27.248896",
     "exception": false,
     "start_time": "2024-02-08T19:49:27.207196",
     "status": "completed"
    },
    "tags": []
   },
   "outputs": [],
   "source": [
    "# prepare feature and target\n",
    "X = train.drop(['Transported'], axis=1)\n",
    "y = train['Transported']\n",
    "# split data into 80% train and 20% test\n",
    "X_train, X_test, y_train, y_test = train_test_split(X, y, test_size=0.2, random_state=42)\n",
    "# initialize the scaler\n",
    "scaler = StandardScaler()\n",
    "# fit the scaler with train set (X_train)\n",
    "scaler.fit(X_train)\n",
    "# apply the scaler to train set (X_train) and validation set (X_test)\n",
    "X_train = scaler.transform(X_train)\n",
    "X_test = scaler.transform(X_test)"
   ]
  },
  {
   "cell_type": "markdown",
   "id": "f31c2838",
   "metadata": {
    "papermill": {
     "duration": 0.00982,
     "end_time": "2024-02-08T19:49:27.268976",
     "exception": false,
     "start_time": "2024-02-08T19:49:27.259156",
     "status": "completed"
    },
    "tags": []
   },
   "source": [
    "### Data Modeling:  \n",
    "*Conduct a comprehensive assessment by deploying a suite of classification algorithms, such as K-Nearest Neighbors (KNN), Logistic Regression, and Random Forest, to ensure a robust evaluation of the dataset's predictive dynamics.*"
   ]
  },
  {
   "cell_type": "markdown",
   "id": "f44cbb85",
   "metadata": {
    "papermill": {
     "duration": 0.009896,
     "end_time": "2024-02-08T19:49:27.288883",
     "exception": false,
     "start_time": "2024-02-08T19:49:27.278987",
     "status": "completed"
    },
    "tags": []
   },
   "source": [
    "#### KNN\n",
    "The K-Nearest Neighbors algorithm boasts simplicity in its non-parametric and instance-based approach, excels at classifying non-linear data, and performs well with a small number of input variables."
   ]
  },
  {
   "cell_type": "code",
   "execution_count": 11,
   "id": "7cd1462b",
   "metadata": {
    "execution": {
     "iopub.execute_input": "2024-02-08T19:49:27.311157Z",
     "iopub.status.busy": "2024-02-08T19:49:27.310721Z",
     "iopub.status.idle": "2024-02-08T19:49:27.315949Z",
     "shell.execute_reply": "2024-02-08T19:49:27.314558Z"
    },
    "papermill": {
     "duration": 0.019613,
     "end_time": "2024-02-08T19:49:27.318514",
     "exception": false,
     "start_time": "2024-02-08T19:49:27.298901",
     "status": "completed"
    },
    "tags": []
   },
   "outputs": [],
   "source": [
    "# def make_submission(model, test_dataset, scaler):\n",
    "#     PassengerId = test_dataset['PassengerId']\n",
    "#     test_dataset = clean_data(test_dataset)\n",
    "#     test_dataset = scaler.transform(test_dataset)\n",
    "#     y_pred = model.predict(test_dataset)\n",
    "    \n",
    "#     submission = pd.from_dict({\n",
    "#         'PassengerId' = PassengerId,\n",
    "#         'Transported' = y_pred\n",
    "#     })"
   ]
  },
  {
   "cell_type": "code",
   "execution_count": 12,
   "id": "f1bfca2e",
   "metadata": {
    "execution": {
     "iopub.execute_input": "2024-02-08T19:49:27.340470Z",
     "iopub.status.busy": "2024-02-08T19:49:27.340042Z",
     "iopub.status.idle": "2024-02-08T19:49:27.347714Z",
     "shell.execute_reply": "2024-02-08T19:49:27.346667Z"
    },
    "papermill": {
     "duration": 0.021251,
     "end_time": "2024-02-08T19:49:27.349975",
     "exception": false,
     "start_time": "2024-02-08T19:49:27.328724",
     "status": "completed"
    },
    "tags": []
   },
   "outputs": [],
   "source": [
    "def train_and_evaluate_knn(X_train, y_train, X_test, y_test, n_neighbors=3):\n",
    "    \n",
    "    '''Train a k-Nearest Neighbors classifier and evaluate its accuracy.'''\n",
    "    \n",
    "    # initialize the kNN classifier with specified number of neighbors\n",
    "    knn = KNeighborsClassifier(n_neighbors)\n",
    "    # train the classifier on the training data\n",
    "    knn.fit(X_train, y_train)\n",
    "    # make predictions on the testing data\n",
    "    y_pred = knn.predict(X_test)\n",
    "    # calculate the accuracy of the predictions\n",
    "    accuracy = accuracy_score(y_test, y_pred)\n",
    "    # display accuracy\n",
    "    print(f'The accuracy is: {accuracy}')\n",
    "    \n",
    "    return knn"
   ]
  },
  {
   "cell_type": "code",
   "execution_count": 13,
   "id": "956a245d",
   "metadata": {
    "execution": {
     "iopub.execute_input": "2024-02-08T19:49:27.373021Z",
     "iopub.status.busy": "2024-02-08T19:49:27.371687Z",
     "iopub.status.idle": "2024-02-08T19:50:02.063514Z",
     "shell.execute_reply": "2024-02-08T19:50:02.062010Z"
    },
    "papermill": {
     "duration": 34.715098,
     "end_time": "2024-02-08T19:50:02.075251",
     "exception": false,
     "start_time": "2024-02-08T19:49:27.360153",
     "status": "completed"
    },
    "tags": []
   },
   "outputs": [
    {
     "name": "stdout",
     "output_type": "stream",
     "text": [
      "The best value for 'k' is 30\n"
     ]
    }
   ],
   "source": [
    "#### implement K-fold cross-validation to choose the optimal K\n",
    "knn = KNeighborsClassifier()\n",
    "# define the parameter grid\n",
    "param_grid = {'n_neighbors': range(1, 31)}\n",
    "# use GridSearchCV\n",
    "grid_search = GridSearchCV(knn, param_grid, cv=5) # cv is the number of folds\n",
    "# fit the grid search to the data\n",
    "grid_search.fit(X_train, y_train)\n",
    "# get the best parameter\n",
    "best_k = grid_search.best_params_['n_neighbors']\n",
    "print(f\"The best value for 'k' is {best_k}\")"
   ]
  },
  {
   "cell_type": "code",
   "execution_count": 14,
   "id": "9ca131a0",
   "metadata": {
    "execution": {
     "iopub.execute_input": "2024-02-08T19:50:02.097988Z",
     "iopub.status.busy": "2024-02-08T19:50:02.096696Z",
     "iopub.status.idle": "2024-02-08T19:50:02.452314Z",
     "shell.execute_reply": "2024-02-08T19:50:02.450910Z"
    },
    "papermill": {
     "duration": 0.369493,
     "end_time": "2024-02-08T19:50:02.454758",
     "exception": false,
     "start_time": "2024-02-08T19:50:02.085265",
     "status": "completed"
    },
    "tags": []
   },
   "outputs": [
    {
     "name": "stdout",
     "output_type": "stream",
     "text": [
      "The accuracy is: 0.7860839562967222\n"
     ]
    }
   ],
   "source": [
    "knn = train_and_evaluate_knn(X_train, y_train, X_test, y_test, 30)"
   ]
  },
  {
   "cell_type": "markdown",
   "id": "79b31ec1",
   "metadata": {
    "papermill": {
     "duration": 0.010267,
     "end_time": "2024-02-08T19:50:02.475193",
     "exception": false,
     "start_time": "2024-02-08T19:50:02.464926",
     "status": "completed"
    },
    "tags": []
   },
   "source": [
    "#### Logistic Regression\n",
    "Logistic Regression offers a probabilistic understanding of class membership, excels with binary classification tasks, and maintains efficiency with resource use, making it a preferred model for its interpretability and speed in scenarios with dichotomous outcomes."
   ]
  },
  {
   "cell_type": "code",
   "execution_count": 15,
   "id": "c039ecbd",
   "metadata": {
    "execution": {
     "iopub.execute_input": "2024-02-08T19:50:02.497668Z",
     "iopub.status.busy": "2024-02-08T19:50:02.497274Z",
     "iopub.status.idle": "2024-02-08T19:50:02.505465Z",
     "shell.execute_reply": "2024-02-08T19:50:02.504290Z"
    },
    "papermill": {
     "duration": 0.022444,
     "end_time": "2024-02-08T19:50:02.507990",
     "exception": false,
     "start_time": "2024-02-08T19:50:02.485546",
     "status": "completed"
    },
    "tags": []
   },
   "outputs": [],
   "source": [
    "def train_and_evaluate_logreg(X_train, y_train, X_test, y_test):\n",
    "    '''Train a logistic regression classifier and evaluate its accuracy.'''\n",
    "    \n",
    "    # initialize the logistic model\n",
    "    logreg = LogisticRegression()\n",
    "    # fit the model to the training data\n",
    "    logreg.fit(X_train, y_train)\n",
    "    # predict probabilities\n",
    "    y_pred = logreg.predict(X_test)\n",
    "    # calculate the accuracy of the model\n",
    "    accuracy = accuracy_score(y_test, y_pred)\n",
    "\n",
    "    # evaluate accuracy\n",
    "    print('#' * 50)\n",
    "    print(f\"Accuracy:\\n {accuracy: .2f}\")\n",
    "\n",
    "    # evaluate classification report\n",
    "    print('#' * 50)\n",
    "    print(f\"classification report:\\n {classification_report(y_test, y_pred)}\")\n",
    "    \n",
    "    # access the model's coefficients and intercept\n",
    "    coefficients = logreg.coef_\n",
    "    intercept = logreg.intercept_\n",
    "    # matching the coefficients to the feature names\n",
    "    feature_importance = pd.DataFrame(data=coefficients.T, index=X.columns, columns=['Coefficient'])\n",
    "    print('#' * 50)\n",
    "    print(f\"feature importance:\\n {feature_importance}\")\n",
    "    \n",
    "    return logreg"
   ]
  },
  {
   "cell_type": "code",
   "execution_count": 16,
   "id": "97797f5d",
   "metadata": {
    "execution": {
     "iopub.execute_input": "2024-02-08T19:50:02.530228Z",
     "iopub.status.busy": "2024-02-08T19:50:02.529830Z",
     "iopub.status.idle": "2024-02-08T19:50:02.601780Z",
     "shell.execute_reply": "2024-02-08T19:50:02.600460Z"
    },
    "papermill": {
     "duration": 0.08859,
     "end_time": "2024-02-08T19:50:02.606729",
     "exception": false,
     "start_time": "2024-02-08T19:50:02.518139",
     "status": "completed"
    },
    "tags": []
   },
   "outputs": [
    {
     "name": "stdout",
     "output_type": "stream",
     "text": [
      "##################################################\n",
      "Accuracy:\n",
      "  0.78\n",
      "##################################################\n",
      "classification report:\n",
      "               precision    recall  f1-score   support\n",
      "\n",
      "       False       0.79      0.75      0.77       861\n",
      "        True       0.77      0.81      0.79       878\n",
      "\n",
      "    accuracy                           0.78      1739\n",
      "   macro avg       0.78      0.78      0.78      1739\n",
      "weighted avg       0.78      0.78      0.78      1739\n",
      "\n",
      "##################################################\n",
      "feature importance:\n",
      "                            Coefficient\n",
      "CryoSleep                     0.613314\n",
      "Age                          -0.094857\n",
      "VIP                          -0.041164\n",
      "RoomService                  -1.021469\n",
      "FoodCourt                     0.802463\n",
      "ShoppingMall                  0.341046\n",
      "Spa                          -2.145904\n",
      "VRDeck                       -2.056558\n",
      "HomePlanet_Earth             -0.421149\n",
      "HomePlanet_Europa             0.542656\n",
      "HomePlanet_Mars              -0.059988\n",
      "Destination_55 Cancri e       0.124166\n",
      "Destination_PSO J318.5-22    -0.050571\n",
      "Destination_TRAPPIST-1e      -0.078296\n",
      "group                         0.072507\n"
     ]
    }
   ],
   "source": [
    "logreg = train_and_evaluate_logreg(X_train, y_train, X_test, y_test)"
   ]
  },
  {
   "cell_type": "markdown",
   "id": "ed3ec273",
   "metadata": {
    "papermill": {
     "duration": 0.021358,
     "end_time": "2024-02-08T19:50:02.649882",
     "exception": false,
     "start_time": "2024-02-08T19:50:02.628524",
     "status": "completed"
    },
    "tags": []
   },
   "source": [
    "#### random forest\n",
    "Random Forest is a versatile algorithm that can handle both classification and regression tasks with high accuracy, manages large datasets with thousands of input variables without variable deletion, and provides important measures of feature significance, all while being less prone to overfitting compared to individual decision trees."
   ]
  },
  {
   "cell_type": "code",
   "execution_count": 17,
   "id": "ceafeb7e",
   "metadata": {
    "execution": {
     "iopub.execute_input": "2024-02-08T19:50:02.694854Z",
     "iopub.status.busy": "2024-02-08T19:50:02.694464Z",
     "iopub.status.idle": "2024-02-08T19:50:02.700470Z",
     "shell.execute_reply": "2024-02-08T19:50:02.699627Z"
    },
    "papermill": {
     "duration": 0.030621,
     "end_time": "2024-02-08T19:50:02.702514",
     "exception": false,
     "start_time": "2024-02-08T19:50:02.671893",
     "status": "completed"
    },
    "tags": []
   },
   "outputs": [],
   "source": [
    "def train_and_evaluate_rf(X_train, y_train, X_test, y_test):\n",
    "    '''Train a random forest classifier and evaluate its accuracy.'''\n",
    "    \n",
    "    # initialize the Random Forest model\n",
    "    rf = RandomForestClassifier(n_estimators=100, random_state=42)\n",
    "    # fit the model to the training data\n",
    "    rf.fit(X_train, y_train)\n",
    "    # predict class\n",
    "    y_pred = rf.predict(X_test)\n",
    "\n",
    "    # evaluate accuracy\n",
    "    print(f\"Accuracy:\\n {accuracy_score(y_test, y_pred)}\")\n",
    "    # detailed classification report\n",
    "    print(f\"classification report:\\n {classification_report(y_test, y_pred)}\")\n",
    "    \n",
    "    return rf"
   ]
  },
  {
   "cell_type": "code",
   "execution_count": 18,
   "id": "39f3371a",
   "metadata": {
    "execution": {
     "iopub.execute_input": "2024-02-08T19:50:02.724858Z",
     "iopub.status.busy": "2024-02-08T19:50:02.724112Z",
     "iopub.status.idle": "2024-02-08T19:50:03.900149Z",
     "shell.execute_reply": "2024-02-08T19:50:03.898507Z"
    },
    "papermill": {
     "duration": 1.190075,
     "end_time": "2024-02-08T19:50:03.902686",
     "exception": false,
     "start_time": "2024-02-08T19:50:02.712611",
     "status": "completed"
    },
    "tags": []
   },
   "outputs": [
    {
     "name": "stdout",
     "output_type": "stream",
     "text": [
      "Accuracy:\n",
      " 0.7757331799884991\n",
      "classification report:\n",
      "               precision    recall  f1-score   support\n",
      "\n",
      "       False       0.77      0.79      0.78       861\n",
      "        True       0.79      0.77      0.78       878\n",
      "\n",
      "    accuracy                           0.78      1739\n",
      "   macro avg       0.78      0.78      0.78      1739\n",
      "weighted avg       0.78      0.78      0.78      1739\n",
      "\n"
     ]
    }
   ],
   "source": [
    "rf = train_and_evaluate_rf(X_train, y_train, X_test, y_test)"
   ]
  }
 ],
 "metadata": {
  "kaggle": {
   "accelerator": "none",
   "dataSources": [
    {
     "databundleVersionId": 3220602,
     "sourceId": 34377,
     "sourceType": "competition"
    }
   ],
   "dockerImageVersionId": 30646,
   "isGpuEnabled": false,
   "isInternetEnabled": true,
   "language": "python",
   "sourceType": "notebook"
  },
  "kernelspec": {
   "display_name": "Python 3",
   "language": "python",
   "name": "python3"
  },
  "language_info": {
   "codemirror_mode": {
    "name": "ipython",
    "version": 3
   },
   "file_extension": ".py",
   "mimetype": "text/x-python",
   "name": "python",
   "nbconvert_exporter": "python",
   "pygments_lexer": "ipython3",
   "version": "3.10.13"
  },
  "papermill": {
   "default_parameters": {},
   "duration": 43.999274,
   "end_time": "2024-02-08T19:50:04.534957",
   "environment_variables": {},
   "exception": null,
   "input_path": "__notebook__.ipynb",
   "output_path": "__notebook__.ipynb",
   "parameters": {},
   "start_time": "2024-02-08T19:49:20.535683",
   "version": "2.5.0"
  }
 },
 "nbformat": 4,
 "nbformat_minor": 5
}
